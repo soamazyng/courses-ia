{
 "cells": [
  {
   "cell_type": "code",
   "execution_count": 8,
   "metadata": {},
   "outputs": [],
   "source": [
    "from dotenv import load_dotenv, find_dotenv\n",
    "\n",
    "_ = load_dotenv(find_dotenv())\n",
    "\n",
    "from crewai import Agent, Task, Crew"
   ]
  },
  {
   "cell_type": "markdown",
   "metadata": {},
   "source": [
    "## Agentes\n",
    "- Pesquisador de Mercado\n",
    "- Analista de Tendências\n",
    "- Redator do Relatório"
   ]
  },
  {
   "cell_type": "code",
   "execution_count": 9,
   "metadata": {},
   "outputs": [],
   "source": [
    "pesquisador=Agent(\n",
    "    role=\"Pesquisador de Mercado\",\n",
    "    goal=\"Coletar e organizar informações relevantes sobre o {sector}\",\n",
    "    backstory=\"\"\"\n",
    "    Você é um pesquisador experiente que analisa tendências de mercado e coleta\n",
    "    dados relevantes sobre {sector}. Seu trabalho é garantir que todas as\n",
    "    informações estejam atualizadas e bem documentadas.\n",
    "    \"\"\",\n",
    "    allow_delegation=False,\n",
    "    verbose=True,\n",
    ")"
   ]
  },
  {
   "cell_type": "code",
   "execution_count": 10,
   "metadata": {},
   "outputs": [],
   "source": [
    "analista_de_tendencias=Agent(\n",
    "    role=\"Analista de Tendências\",\n",
    "    goal=\"Analisar os dados do setor {sector} e identificar padrões e oportunidades\",\n",
    "    backstory=\"\"\"\n",
    "    Você é um analista de mercado que examina os dados coletados para \n",
    "    identificar tendências emergentes, oportunidades \n",
    "    e ameaças no setor {sector}.\n",
    "    \"\"\",\n",
    "    allow_delegation=False,\n",
    "    verbose=True,\n",
    ")"
   ]
  },
  {
   "cell_type": "code",
   "execution_count": 11,
   "metadata": {},
   "outputs": [],
   "source": [
    "redator_de_relatorio=Agent(\n",
    "    role=\"Redator de Relatório\",\n",
    "    goal=\"Elaborar um relatório consolidade sobre a análise de mercado do setor {sector}\",\n",
    "    backstory=\"\"\"\n",
    "    Você é um redator profissional que transforma análise de mercado em um relatório\n",
    "    estruturado e compreensível para tomadores de decisão.\n",
    "    \"\"\",\n",
    "    allow_delegation=False,\n",
    "    verbose=True,\n",
    ")"
   ]
  },
  {
   "cell_type": "code",
   "execution_count": 12,
   "metadata": {},
   "outputs": [],
   "source": [
    "coleta_de_dados=Task(\n",
    "    description=(\n",
    "      \"1. Pesquisar e coletar informações autalizadas sobre {sector} \"\n",
    "      \"2. Identificar os principais players, tendências e estatísticas do setor\"\n",
    "      \"3. Organizar os dados de forma clara para análise\"\n",
    "      ),\n",
    "      expected_output=\"\"\"\n",
    "      Um documento estrutura contendo dados de mercado sobre {sector}\n",
    "      \"\"\",\n",
    "    agents=[pesquisador]\n",
    ")"
   ]
  },
  {
   "cell_type": "code",
   "execution_count": 13,
   "metadata": {},
   "outputs": [],
   "source": [
    "analista_tendencias=Task(\n",
    "    description=(\n",
    "      \"1. Examinar os dados coletados pelo Pesquisador de Mercado. \"\n",
    "      \"2. Identificar padrões, tendências emergentes e oportunidades no setor {sector} \"\n",
    "      \"3. Elaborar uma análise detalhada destacando os principais pontos\"\n",
    "      ),\n",
    "      expected_output=\"\"\"\n",
    "      Um relatório detalhado com insights e tendências baseado nos dados do {sector}\n",
    "      \"\"\",\n",
    "    agents=[analista_de_tendencias]\n",
    ")"
   ]
  },
  {
   "cell_type": "code",
   "execution_count": 14,
   "metadata": {},
   "outputs": [],
   "source": [
    "redacao_relatorio=Task(\n",
    "    description=(\n",
    "      \"1. Usar a análise de tendências para criar um relatório detalhado sobre o setor {sector}. \"\n",
    "      \"2. Garantir que o relatório seja estruturado, claro e conciso. \"\n",
    "      \"3. Apresentar um resumo executivo e recomendações finais\"\n",
    "      ),\n",
    "      expected_output=\"\"\"\n",
    "      Um relatório de análise de mercado em formato Markdown pronto para leitura e apresentação.\n",
    "      \"\"\",\n",
    "    agents=[redator_de_relatorio]\n",
    ")"
   ]
  },
  {
   "cell_type": "code",
   "execution_count": 17,
   "metadata": {},
   "outputs": [
    {
     "ename": "ValidationError",
     "evalue": "1 validation error for Crew\n  Sequential process error: Agent is missing in the task with the following description: 1. Pesquisar e coletar informações autalizadas sobre {sector} 2. Identificar os principais players, tendências e estatísticas do setor3. Organizar os dados de forma clara para análise [type=missing_agent_in_task, input_value={'agents': [Agent(role=Pe...    )], 'verbose': True}, input_type=dict]",
     "output_type": "error",
     "traceback": [
      "\u001b[31m---------------------------------------------------------------------------\u001b[39m",
      "\u001b[31mValidationError\u001b[39m                           Traceback (most recent call last)",
      "\u001b[36mCell\u001b[39m\u001b[36m \u001b[39m\u001b[32mIn[17]\u001b[39m\u001b[32m, line 1\u001b[39m\n\u001b[32m----> \u001b[39m\u001b[32m1\u001b[39m crew = \u001b[43mCrew\u001b[49m\u001b[43m(\u001b[49m\n\u001b[32m      2\u001b[39m \u001b[43m    \u001b[49m\u001b[43magents\u001b[49m\u001b[43m=\u001b[49m\u001b[43m[\u001b[49m\u001b[43mpesquisador\u001b[49m\u001b[43m,\u001b[49m\u001b[43m \u001b[49m\u001b[43manalista_de_tendencias\u001b[49m\u001b[43m,\u001b[49m\u001b[43m \u001b[49m\u001b[43mredator_de_relatorio\u001b[49m\u001b[43m]\u001b[49m\u001b[43m,\u001b[49m\n\u001b[32m      3\u001b[39m \u001b[43m    \u001b[49m\u001b[43mtasks\u001b[49m\u001b[43m=\u001b[49m\u001b[43m[\u001b[49m\u001b[43mcoleta_de_dados\u001b[49m\u001b[43m,\u001b[49m\u001b[43m \u001b[49m\u001b[43manalista_tendencias\u001b[49m\u001b[43m,\u001b[49m\u001b[43m \u001b[49m\u001b[43mredacao_relatorio\u001b[49m\u001b[43m]\u001b[49m\u001b[43m,\u001b[49m\n\u001b[32m      4\u001b[39m \u001b[43m    \u001b[49m\u001b[43mverbose\u001b[49m\u001b[43m=\u001b[49m\u001b[38;5;28;43;01mTrue\u001b[39;49;00m\n\u001b[32m      5\u001b[39m \u001b[43m)\u001b[49m\n",
      "\u001b[36mFile \u001b[39m\u001b[32m~/Documentos/www/courses-ia/udemy/crie-rapido-agentes-ia-do-zero-ao-avancado/crewai_analista_de_mercado/.venv/lib/python3.12/site-packages/pydantic/main.py:253\u001b[39m, in \u001b[36mBaseModel.__init__\u001b[39m\u001b[34m(self, **data)\u001b[39m\n\u001b[32m    251\u001b[39m \u001b[38;5;66;03m# `__tracebackhide__` tells pytest and some other tools to omit this function from tracebacks\u001b[39;00m\n\u001b[32m    252\u001b[39m __tracebackhide__ = \u001b[38;5;28;01mTrue\u001b[39;00m\n\u001b[32m--> \u001b[39m\u001b[32m253\u001b[39m validated_self = \u001b[38;5;28;43mself\u001b[39;49m\u001b[43m.\u001b[49m\u001b[43m__pydantic_validator__\u001b[49m\u001b[43m.\u001b[49m\u001b[43mvalidate_python\u001b[49m\u001b[43m(\u001b[49m\u001b[43mdata\u001b[49m\u001b[43m,\u001b[49m\u001b[43m \u001b[49m\u001b[43mself_instance\u001b[49m\u001b[43m=\u001b[49m\u001b[38;5;28;43mself\u001b[39;49m\u001b[43m)\u001b[49m\n\u001b[32m    254\u001b[39m \u001b[38;5;28;01mif\u001b[39;00m \u001b[38;5;28mself\u001b[39m \u001b[38;5;129;01mis\u001b[39;00m \u001b[38;5;129;01mnot\u001b[39;00m validated_self:\n\u001b[32m    255\u001b[39m     warnings.warn(\n\u001b[32m    256\u001b[39m         \u001b[33m'\u001b[39m\u001b[33mA custom validator is returning a value other than `self`.\u001b[39m\u001b[38;5;130;01m\\n\u001b[39;00m\u001b[33m'\u001b[39m\n\u001b[32m    257\u001b[39m         \u001b[33m\"\u001b[39m\u001b[33mReturning anything other than `self` from a top level model validator isn\u001b[39m\u001b[33m'\u001b[39m\u001b[33mt supported when validating via `__init__`.\u001b[39m\u001b[38;5;130;01m\\n\u001b[39;00m\u001b[33m\"\u001b[39m\n\u001b[32m    258\u001b[39m         \u001b[33m'\u001b[39m\u001b[33mSee the `model_validator` docs (https://docs.pydantic.dev/latest/concepts/validators/#model-validators) for more details.\u001b[39m\u001b[33m'\u001b[39m,\n\u001b[32m    259\u001b[39m         stacklevel=\u001b[32m2\u001b[39m,\n\u001b[32m    260\u001b[39m     )\n",
      "\u001b[31mValidationError\u001b[39m: 1 validation error for Crew\n  Sequential process error: Agent is missing in the task with the following description: 1. Pesquisar e coletar informações autalizadas sobre {sector} 2. Identificar os principais players, tendências e estatísticas do setor3. Organizar os dados de forma clara para análise [type=missing_agent_in_task, input_value={'agents': [Agent(role=Pe...    )], 'verbose': True}, input_type=dict]"
     ]
    }
   ],
   "source": [
    "crew = Crew(\n",
    "    agents=[pesquisador, analista_de_tendencias, redator_de_relatorio],\n",
    "    tasks=[coleta_de_dados, analista_tendencias, redacao_relatorio],\n",
    "    verbose=True\n",
    ")"
   ]
  },
  {
   "cell_type": "code",
   "execution_count": null,
   "metadata": {},
   "outputs": [],
   "source": []
  }
 ],
 "metadata": {
  "kernelspec": {
   "display_name": "Python 3 (ipykernel)",
   "language": "python",
   "name": "python3"
  },
  "language_info": {
   "codemirror_mode": {
    "name": "ipython",
    "version": 3
   },
   "file_extension": ".py",
   "mimetype": "text/x-python",
   "name": "python",
   "nbconvert_exporter": "python",
   "pygments_lexer": "ipython3",
   "version": "3.12.3"
  }
 },
 "nbformat": 4,
 "nbformat_minor": 4
}
