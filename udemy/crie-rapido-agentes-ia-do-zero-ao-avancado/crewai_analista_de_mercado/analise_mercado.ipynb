{
 "cells": [
  {
   "cell_type": "code",
   "execution_count": 127,
   "metadata": {},
   "outputs": [],
   "source": [
    "from dotenv import load_dotenv\n",
    "from crewai import Agent, Task, Crew\n",
    "\n",
    "_ = load_dotenv()"
   ]
  },
  {
   "cell_type": "markdown",
   "metadata": {},
   "source": [
    "## Agentes\n",
    "- Pesquisador de Mercado\n",
    "- Analista de Tendências\n",
    "- Redator do Relatório"
   ]
  },
  {
   "cell_type": "code",
   "execution_count": 128,
   "metadata": {},
   "outputs": [],
   "source": [
    "pesquisador=Agent(\n",
    "    role=\"Pesquisador de Mercado\",\n",
    "    goal=\"Coletar e organizar informações relevantes sobre o {sector}\",\n",
    "    backstory=\"\"\"\n",
    "    Você é um pesquisador experiente que analisa tendências de mercado e coleta\n",
    "    dados relevantes sobre {sector}. Seu trabalho é garantir que todas as\n",
    "    informações estejam atualizadas e bem documentadas.\n",
    "    \"\"\",\n",
    "    verbose=False,\n",
    ")"
   ]
  },
  {
   "cell_type": "code",
   "execution_count": 129,
   "metadata": {},
   "outputs": [],
   "source": [
    "analista_de_tendencias=Agent(\n",
    "    role=\"Analista de Tendências\",\n",
    "    goal=\"Analisar os dados do setor {sector} e identificar padrões e oportunidades\",\n",
    "    backstory=\"\"\"\n",
    "    Você é um analista de mercado que examina os dados coletados para \n",
    "    identificar tendências emergentes, oportunidades \n",
    "    e ameaças no setor {sector}.\n",
    "    \"\"\",\n",
    "    verbose=False,\n",
    ")"
   ]
  },
  {
   "cell_type": "code",
   "execution_count": 130,
   "metadata": {},
   "outputs": [],
   "source": [
    "redator_de_relatorio=Agent(\n",
    "    role=\"Redator de Relatório\",\n",
    "    goal=\"Elaborar um relatório consolidade sobre a análise de mercado do setor {sector}\",\n",
    "    backstory=\"\"\"\n",
    "    Você é um redator profissional que transforma análise de mercado em um relatório\n",
    "    estruturado e compreensível para tomadores de decisão.\n",
    "    \"\"\",\n",
    "    verbose=False,\n",
    ")"
   ]
  },
  {
   "cell_type": "code",
   "execution_count": 131,
   "metadata": {},
   "outputs": [],
   "source": [
    "coleta_de_dados=Task(\n",
    "    description=(\n",
    "      \"1. Pesquisar e coletar informações autalizadas sobre {sector} \"\n",
    "      \"2. Identificar os principais players, tendências e estatísticas do setor\"\n",
    "      \"3. Organizar os dados de forma clara para análise\"\n",
    "      ),\n",
    "      expected_output=\"\"\"\n",
    "      Um documento estrutura contendo dados de mercado sobre {sector}\n",
    "      \"\"\",\n",
    "    agent=pesquisador\n",
    ")"
   ]
  },
  {
   "cell_type": "code",
   "execution_count": 132,
   "metadata": {},
   "outputs": [],
   "source": [
    "analista_tendencias=Task(\n",
    "    description=(\n",
    "      \"1. Examinar os dados coletados pelo Pesquisador de Mercado. \"\n",
    "      \"2. Identificar padrões, tendências emergentes e oportunidades no setor {sector} \"\n",
    "      \"3. Elaborar uma análise detalhada destacando os principais pontos\"\n",
    "      ),\n",
    "      expected_output=\"\"\"\n",
    "      Um relatório detalhado com insights e tendências baseado nos dados do {sector}\n",
    "      \"\"\",\n",
    "    agent=analista_de_tendencias\n",
    ")"
   ]
  },
  {
   "cell_type": "code",
   "execution_count": 133,
   "metadata": {},
   "outputs": [],
   "source": [
    "redacao_relatorio=Task(\n",
    "    description=(\n",
    "      \"1. Usar a análise de tendências para criar um relatório detalhado sobre o setor {sector}. \"\n",
    "      \"2. Garantir que o relatório seja estruturado, claro e conciso. \"\n",
    "      \"3. Apresentar um resumo executivo e recomendações finais\"\n",
    "      ),\n",
    "      expected_output=\"\"\"\n",
    "      Um relatório de análise de mercado em formato Markdown pronto para leitura e apresentação.\n",
    "      \"\"\",\n",
    "    agent=redator_de_relatorio\n",
    ")"
   ]
  },
  {
   "cell_type": "code",
   "execution_count": 134,
   "metadata": {},
   "outputs": [],
   "source": [
    "crew = Crew(\n",
    "    agents=[pesquisador, analista_de_tendencias, redator_de_relatorio],\n",
    "    tasks=[coleta_de_dados, analista_tendencias, redacao_relatorio],\n",
    "    verbose=False\n",
    ")"
   ]
  },
  {
   "cell_type": "code",
   "execution_count": 136,
   "metadata": {},
   "outputs": [
    {
     "name": "stdout",
     "output_type": "stream",
     "text": [
      "```markdown\n",
      "# Relatório Detalhado sobre o Setor de Inteligência Artificial\n",
      "\n",
      "## 1. Introdução\n",
      "A inteligência artificial (IA) é uma área em crescimento que combina tecnologia e ciência para construir sistemas capazes de simular capacidades humanas, como aprendizado, raciocínio e resolução de problemas. À medida que as empresas e indústrias reconhecem o potencial transformador da IA, a pesquisa sobre suas tendências, desafios e oportunidades se torna essencial para negócios que desejam se destacar nesse mercado dinâmico.\n",
      "\n",
      "## 2. Principais Players do Mercado de IA\n",
      "O setor de IA é dominado por alguns players principais que estão à frente em inovação e desenvolvimento.  \n",
      "- **Google**: Com investimentos significativos em IA através do Google Cloud e do TensorFlow, busca liderar em Machine Learning.  \n",
      "- **Microsoft**: A empresa tem integrado a IA em diversas soluções, incluindo Azure e Office 365, promovendo a digitalização das empresas.  \n",
      "- **IBM**: Com seu foco em Watson, destaca-se em aplicações corporativas, oferecendo forte capacidade em análise preditiva.  \n",
      "- **Amazon**: Os serviços de nuvem (AWS) e o assistente virtual (Alexa) estão cada vez mais embarcados com IA e oferecem soluções inovadoras para os consumidores.  \n",
      "- **OpenAI**: Conhecida pelo desenvolvimento de modelos de linguagem avançados como o GPT-3 e GPT-4, atua fortemente na área de IA generativa.  \n",
      "- **NVIDIA**: Reconhecida pelo desenvolvimento de hardware que suporta profundas implementações de Deep Learning, a empresa é essencial no impulso de aplicações de IA em diversos setores.\n",
      "\n",
      "## 3. Tendências Emergentes\n",
      "O setor de IA está presente em várias frentes, e as seguintes tendências têm mostrado crescimento e potencial disruptivo:  \n",
      "- **Automação Inteligente**: A adoção crescente de IA para otimização de processos e automação de tarefas operacionais.  \n",
      "- **IA Generativa**: Produção de conteúdo criativo e original por meio de algoritmos baseados em linguagem, com aplicações que abrangem texto, imagens e muito mais.  \n",
      "- **Ética em IA**: O aumento das discussões sobre a necessidade de transparência e ética em algoritmos, visando eliminar viés e garantir a privacidade.  \n",
      "- **IA na Saúde**: Tecnologias que facilitam diagnósticos mais precisos e tratamentos personalizados, promovendo a medicina preditiva.  \n",
      "- **Computação Quântica e IA**: A pesquisa em computação quântica está começando a revelar como pode otimizar algoritmos de IA, criando novas oportunidades para soluções mais rápidas e eficazes.\n",
      "\n",
      "## 4. Estatísticas do Setor\n",
      "- O mercado global de IA, avaliado em **$93,5 bilhões em 2021**, deve crescer para **$997,77 bilhões até 2028**, implicando um impressionante CAGR de **40,2%**.  \n",
      "- Mais de **50% das empresas** entendem a IA como um catalisador crucial para a transformação digital durante os próximos anos.  \n",
      "- Em 2021, o investimento em IA nos EUA atingiu **$21 bilhões**, com projeções de crescimento robusto em investimento contínuo.  \n",
      "- Estima-se que o uso de IA em atendimento ao cliente aumentará em **90% até 2025**, destacando sua importância em automação e eficiência operativa.\n",
      "\n",
      "## 5. Conclusões e Oportunidades\n",
      "O mercado de inteligência artificial está em uma trajetória ascendente e evolutiva. À medida que novas tecnologias emergem e a adoção se expande entre empresas de todos os tamanhos, surgem oportunidades significativas para inovação e crescimento. As áreas de IA generativa e automação oferecem oportunidades promissoras para startups e empresas estabelecidas se diferenciarem, enquanto a integração de práticas éticas em IA será não apenas uma responsabilidade social, mas também um diferencial competitivo. Dessa forma, a análise contínua dos dados e das tendências emergentes confirmará a importância da IA no cenário econômico futuro.\n",
      "\n",
      "## Referências\n",
      "- Relatórios de mercado da Grand View Research e McKinsey, junto a pesquisas publicadas em instituições renomadas como Stanford e MIT, além de dados de investimento de PitchBook e Statista.  \n",
      "\n",
      "Este relatório fornece um panorama abrangente e organizado sobre o estado atual do setor de inteligência artificial, marcado por insights estratégicos que podem guiar decisões de negócios e inovações futuras neste campo promissor.\n",
      "```\n"
     ]
    }
   ],
   "source": [
    "result = crew.kickoff(inputs={\"sector\": \"inteligência artificial\"})\n",
    "\n",
    "print(result)"
   ]
  }
 ],
 "metadata": {
  "kernelspec": {
   "display_name": ".venv",
   "language": "python",
   "name": "python3"
  },
  "language_info": {
   "codemirror_mode": {
    "name": "ipython",
    "version": 3
   },
   "file_extension": ".py",
   "mimetype": "text/x-python",
   "name": "python",
   "nbconvert_exporter": "python",
   "pygments_lexer": "ipython3",
   "version": "3.12.3"
  }
 },
 "nbformat": 4,
 "nbformat_minor": 4
}
